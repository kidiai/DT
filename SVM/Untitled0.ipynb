{
 "metadata": {
  "name": "",
  "signature": "sha256:6e53664790c8b2cf2855e9b0c437ce9479ddb478a239c877bc5d9a74641a2c8a"
 },
 "nbformat": 3,
 "nbformat_minor": 0,
 "worksheets": [
  {
   "cells": [
    {
     "cell_type": "markdown",
     "metadata": {},
     "source": [
      "#Training sets and prediction models\n",
      "\n",
      "##\u2022input/output sets X , Y\n",
      "##\u2022 training set (x1, y1),...,(xm, ym)\n",
      "##\u2022 \u201dgeneralization\u201d: given a previously seenx \u2208 X , find a suitabley \u2208 Y.\n",
      "##\u2022 i.e., want to learn a classifier:y=f(x, \u03b1), where\u03b1 are the parameters of the function.\n",
      "##\u2022 For example, if we are choosing our model from the set of hyperplanes in R^n, then we have:\n",
      "    f(x,{w, b}) = sign(w \u00b7 x + b)"
     ]
    },
    {
     "cell_type": "markdown",
     "metadata": {},
     "source": [
      "##Lagrange multiplier\n",
      "\n",
      "$L(w,\\quad b,\\quad { \\alpha  }_{ i })\\quad =\\quad \\frac { 1 }{ 2 } { w }^{ T }w-\\sum _{ i }^{  }{ { a }_{ i }[{ y }_{ i }({ w }^{ T }{ x }_{ i }+b)-1] } \\\\ \n",
      "\\frac { \\partial L }{ \\partial w } \\quad =\\quad w\\quad -\\quad \\sum _{ i }^{  }{ { \\alpha  }_{ i }{ y }_{ i }{ x }_{ i } } \\\\ \\frac { \\partial L }{ \\partial b } \\quad =\\quad -\\quad \\sum _{ i }^{  }{ { \\alpha  }_{ i }{ y }_{ i } } $"
     ]
    },
    {
     "cell_type": "code",
     "collapsed": false,
     "input": [],
     "language": "python",
     "metadata": {},
     "outputs": []
    }
   ],
   "metadata": {}
  }
 ]
}